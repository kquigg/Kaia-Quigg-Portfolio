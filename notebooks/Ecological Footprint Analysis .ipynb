{
 "cells": [
  {
   "cell_type": "markdown",
   "metadata": {},
   "source": [
    "**Kaia Quigg Final Project DSP 562**"
   ]
  },
  {
   "cell_type": "code",
   "execution_count": 1,
   "metadata": {},
   "outputs": [],
   "source": [
    "import pandas as pd\n",
    "import numpy as np\n",
    "import matplotlib.pyplot as plt\n",
    "import seaborn as sns\n",
    "import statsmodels.api as sm\n",
    "from sklearn.model_selection import train_test_split\n",
    "from sklearn.metrics import mean_squared_error, r2_score"
   ]
  },
  {
   "cell_type": "markdown",
   "metadata": {},
   "source": [
    "**Data Cleaning**"
   ]
  },
  {
   "cell_type": "code",
   "execution_count": 2,
   "metadata": {},
   "outputs": [],
   "source": [
    "df = pd.read_csv('Global Ecological Footprint 2023.csv', encoding='latin1')"
   ]
  },
  {
   "cell_type": "code",
   "execution_count": 3,
   "metadata": {},
   "outputs": [],
   "source": [
    "df = df.rename(columns={\n",
    "    'Built up land': 'Built-up land EF',\n",
    "    'Built up land.1': 'Built-up land BC',\n",
    "    'Total biocapacity ': 'Total Biocapacity',\n",
    "    'Life Exectancy': 'Life Expectancy'\n",
    "})"
   ]
  },
  {
   "cell_type": "code",
   "execution_count": 4,
   "metadata": {},
   "outputs": [
    {
     "name": "stdout",
     "output_type": "stream",
     "text": [
      "Index(['Country', 'Region', 'SDGi', 'Life Expectancy', 'HDI', 'Per Capita GDP',\n",
      "       'Income Group', 'Population (millions)', 'Cropland Footprint',\n",
      "       'Grazing Footprint', 'Forest Product Footprint', 'Carbon Footprint',\n",
      "       'Fish Footprint', 'Built-up land EF',\n",
      "       'Total Ecological Footprint (Consumption)', 'Cropland', 'Grazing land',\n",
      "       'Forest land', 'Fishing ground', 'Built-up land BC',\n",
      "       'Total Biocapacity', 'Ecological (Deficit) or Reserve',\n",
      "       'Number of Earths required', 'Number of Countries required'],\n",
      "      dtype='object')\n"
     ]
    }
   ],
   "source": [
    "print(df.columns)"
   ]
  },
  {
   "cell_type": "code",
   "execution_count": 5,
   "metadata": {},
   "outputs": [],
   "source": [
    "# Identify missing values\n",
    "\n",
    "missing_locations = df.isnull().stack().reset_index()\n",
    "missing_locations.columns = ['Country Index', 'Column', 'Is Missing']\n",
    "missing_locations = missing_locations[missing_locations['Is Missing']]\n",
    "missing_locations['Country'] = df.loc[missing_locations['Country Index'], 'Country'].values\n",
    "missing_locations = missing_locations.drop(columns='Is Missing')\n",
    "\n",
    "missing_locations = missing_locations[['Country', 'Column', 'Country Index']]\n",
    "\n",
    "unique_countries_with_missing_values = missing_locations['Country'].unique()"
   ]
  },
  {
   "cell_type": "code",
   "execution_count": 6,
   "metadata": {},
   "outputs": [
    {
     "name": "stdout",
     "output_type": "stream",
     "text": [
      "Number of unique countries with missing values: 48\n",
      "\n",
      "Locations of missing values:\n",
      "Grazing Footprint                           30\n",
      "Built-up land EF                            30\n",
      "Fishing ground                              30\n",
      "Grazing land                                30\n",
      "Forest Product Footprint                    30\n",
      "Built-up land BC                            30\n",
      "Fish Footprint                              30\n",
      "Cropland Footprint                          30\n",
      "Forest land                                 30\n",
      "Cropland                                    30\n",
      "Carbon Footprint                            30\n",
      "SDGi                                        23\n",
      "Per Capita GDP                              17\n",
      "HDI                                          9\n",
      "Life Expectancy                              6\n",
      "Income Group                                 4\n",
      "Total Ecological Footprint (Consumption)     1\n",
      "Ecological (Deficit) or Reserve              1\n",
      "Total Biocapacity                            1\n",
      "Number of Countries required                 1\n",
      "Number of Earths required                    1\n",
      "Name: Column, dtype: int64\n"
     ]
    }
   ],
   "source": [
    "print(f'Number of unique countries with missing values: {len(unique_countries_with_missing_values)}')\n",
    "\n",
    "print('\\nLocations of missing values:')\n",
    "print(missing_locations['Column'].value_counts())"
   ]
  },
  {
   "cell_type": "code",
   "execution_count": 7,
   "metadata": {},
   "outputs": [],
   "source": [
    "land_type_columns = [\n",
    "    'Grazing land', 'Grazing Footprint', 'Fish Footprint', 'Cropland Footprint',\n",
    "    'Built-up land BC', 'Forest Product Footprint', 'Carbon Footprint', \n",
    "    'Cropland', 'Built-up land EF', 'Forest land', 'Fishing ground'\n",
    "]"
   ]
  },
  {
   "cell_type": "code",
   "execution_count": 8,
   "metadata": {},
   "outputs": [],
   "source": [
    "land_type_missing = missing_locations[missing_locations['Column'].isin(land_type_columns)]"
   ]
  },
  {
   "cell_type": "code",
   "execution_count": 9,
   "metadata": {},
   "outputs": [
    {
     "name": "stdout",
     "output_type": "stream",
     "text": [
      "Antigua and Barbuda\n",
      "Bermuda\n",
      "Cabo Verde\n",
      "Cambodia\n",
      "Comoros\n",
      "Cyprus\n",
      "Dominica\n",
      "Ecuador\n",
      "Egypt\n",
      "French Guiana\n",
      "French Polynesia\n",
      "Grenada\n",
      "Guadeloupe\n",
      "Guyana\n",
      "Honduras\n",
      "Lesotho\n",
      "Malta\n",
      "Martinique\n",
      "Mauritius\n",
      "Netherlands\n",
      "New Zealand\n",
      "Republic of Moldova\n",
      "Réunion\n",
      "Saint Vincent and Grenadines\n",
      "Samoa\n",
      "Sao Tome and Principe\n",
      "Solomon Islands\n",
      "Tonga\n",
      "Ukraine\n",
      "Vanuatu\n"
     ]
    }
   ],
   "source": [
    "countries_of_interest = land_type_missing['Country'].unique()\n",
    "print('\\n'.join(countries_of_interest))"
   ]
  },
  {
   "cell_type": "code",
   "execution_count": 10,
   "metadata": {},
   "outputs": [
    {
     "name": "stdout",
     "output_type": "stream",
     "text": [
      "Asia-Pacific                 7\n",
      "Africa                       7\n",
      "Central America/Caribbean    7\n",
      "EU-27                        3\n",
      "South America                3\n",
      "Other Europe                 2\n",
      "North America                1\n",
      "Name: Region, dtype: int64\n"
     ]
    }
   ],
   "source": [
    "# Examining which region countries belong to\n",
    "filtered_df = df[df['Country'].isin(countries_of_interest)]\n",
    "region_counts = filtered_df['Region'].value_counts()\n",
    "print(region_counts)"
   ]
  },
  {
   "cell_type": "code",
   "execution_count": 11,
   "metadata": {},
   "outputs": [
    {
     "name": "stdout",
     "output_type": "stream",
     "text": [
      "Africa                       53\n",
      "Asia-Pacific                 30\n",
      "EU-27                        26\n",
      "Middle East/Central Asia     23\n",
      "Central America/Caribbean    20\n",
      "South America                13\n",
      "Other Europe                 13\n",
      "North America                 4\n",
      "Name: Region, dtype: int64\n"
     ]
    }
   ],
   "source": [
    "region_counts_original = df['Region'].value_counts()\n",
    "print(region_counts_original)"
   ]
  },
  {
   "cell_type": "code",
   "execution_count": 12,
   "metadata": {},
   "outputs": [
    {
     "name": "stdout",
     "output_type": "stream",
     "text": [
      "182\n"
     ]
    }
   ],
   "source": [
    "print(df['Country'].count())"
   ]
  },
  {
   "cell_type": "code",
   "execution_count": 13,
   "metadata": {},
   "outputs": [],
   "source": [
    "df = df[~df['Country'].isin(countries_of_interest)]"
   ]
  },
  {
   "cell_type": "code",
   "execution_count": 14,
   "metadata": {},
   "outputs": [
    {
     "name": "stdout",
     "output_type": "stream",
     "text": [
      "152\n"
     ]
    }
   ],
   "source": [
    "print(df['Country'].count())"
   ]
  },
  {
   "cell_type": "code",
   "execution_count": 15,
   "metadata": {},
   "outputs": [
    {
     "name": "stdout",
     "output_type": "stream",
     "text": [
      "Non-numeric values in column Per Capita GDP:\n",
      "0     NaN\n",
      "40    NaN\n",
      "42    NaN\n",
      "89    NaN\n",
      "95    NaN\n",
      "157   NaN\n",
      "158   NaN\n",
      "169   NaN\n",
      "175   NaN\n",
      "177   NaN\n",
      "180   NaN\n",
      "181   NaN\n",
      "Name: Per Capita GDP, dtype: float64\n",
      "Non-numeric values in column SDGi:\n",
      "40        \n",
      "52     NaN\n",
      "53     NaN\n",
      "72     NaN\n",
      "89     NaN\n",
      "138    NaN\n",
      "148    NaN\n",
      "161    NaN\n",
      "163    NaN\n",
      "174    NaN\n",
      "180    NaN\n",
      "181    NaN\n",
      "Name: SDGi, dtype: object\n"
     ]
    }
   ],
   "source": [
    "# Imputing regional median to remaining missing values\n",
    "\n",
    "def convert_gdp_to_float(df, col):\n",
    "    df[col] = df[col].astype(str)  \n",
    "    df[col] = df[col].str.strip()  \n",
    "    df[col] = df[col].replace('[\\$,]', '', regex=True)  \n",
    "    df[col] = pd.to_numeric(df[col], errors='coerce')  \n",
    "    return df\n",
    "\n",
    "\n",
    "def identify_non_numeric(df, cols):\n",
    "    non_numeric = {}\n",
    "    for col in cols:\n",
    "        non_numeric_values = df[~df[col].apply(lambda x: pd.to_numeric(x, errors='coerce')).notna()][col]\n",
    "        if not non_numeric_values.empty:\n",
    "            non_numeric[col] = non_numeric_values\n",
    "    return non_numeric\n",
    "\n",
    "\n",
    "def fill_with_regional_median(df, group_col, target_cols):\n",
    "    for col in target_cols:\n",
    "        df[col] = df.groupby(group_col)[col].transform(lambda x: x.fillna(x.median()))\n",
    "    return df\n",
    "\n",
    "\n",
    "df = convert_gdp_to_float(df, 'Per Capita GDP')\n",
    "\n",
    "\n",
    "numerical_columns = ['Per Capita GDP', 'SDGi']  \n",
    "\n",
    "non_numeric_values = identify_non_numeric(df, numerical_columns)\n",
    "for col, values in non_numeric_values.items():\n",
    "    print(f\"Non-numeric values in column {col}:\")\n",
    "    print(values)\n",
    "\n",
    "for col in numerical_columns:\n",
    "    df[col] = pd.to_numeric(df[col], errors='coerce')\n",
    "\n",
    "df = fill_with_regional_median(df, 'Region', numerical_columns)"
   ]
  },
  {
   "cell_type": "code",
   "execution_count": 16,
   "metadata": {},
   "outputs": [
    {
     "name": "stdout",
     "output_type": "stream",
     "text": [
      "Country                                     0\n",
      "Region                                      0\n",
      "SDGi                                        0\n",
      "Life Expectancy                             2\n",
      "HDI                                         3\n",
      "Per Capita GDP                              0\n",
      "Income Group                                0\n",
      "Population (millions)                       0\n",
      "Cropland Footprint                          0\n",
      "Grazing Footprint                           0\n",
      "Forest Product Footprint                    0\n",
      "Carbon Footprint                            0\n",
      "Fish Footprint                              0\n",
      "Built-up land EF                            0\n",
      "Total Ecological Footprint (Consumption)    0\n",
      "Cropland                                    0\n",
      "Grazing land                                0\n",
      "Forest land                                 0\n",
      "Fishing ground                              0\n",
      "Built-up land BC                            0\n",
      "Total Biocapacity                           0\n",
      "Ecological (Deficit) or Reserve             0\n",
      "Number of Earths required                   0\n",
      "Number of Countries required                0\n",
      "dtype: int64\n"
     ]
    }
   ],
   "source": [
    "missing_values = df.isnull().sum()\n",
    "print(missing_values)"
   ]
  },
  {
   "cell_type": "code",
   "execution_count": 17,
   "metadata": {},
   "outputs": [],
   "source": [
    "df['Life Expectancy'] = df['Life Expectancy'].astype(str)\n",
    "df['HDI'] = df['HDI'].astype(str)\n",
    "\n",
    "df['Life Expectancy'] = df['Life Expectancy'].str.strip()  \n",
    "df['Life Expectancy'] = df['Life Expectancy'].replace('', np.nan)\n",
    "\n",
    "df['HDI'] = df['HDI'].str.strip() \n",
    "df['HDI'] = df['HDI'].replace('', np.nan) \n",
    "\n",
    "\n",
    "df['Life Expectancy'] = pd.to_numeric(df['Life Expectancy'], errors='coerce')\n",
    "df['HDI'] = pd.to_numeric(df['HDI'], errors='coerce')"
   ]
  },
  {
   "cell_type": "code",
   "execution_count": 18,
   "metadata": {},
   "outputs": [
    {
     "name": "stdout",
     "output_type": "stream",
     "text": [
      "Missing values after filling with regional median:\n",
      "Country                                     0\n",
      "Region                                      0\n",
      "SDGi                                        0\n",
      "Life Expectancy                             0\n",
      "HDI                                         0\n",
      "Per Capita GDP                              0\n",
      "Income Group                                0\n",
      "Population (millions)                       0\n",
      "Cropland Footprint                          0\n",
      "Grazing Footprint                           0\n",
      "Forest Product Footprint                    0\n",
      "Carbon Footprint                            0\n",
      "Fish Footprint                              0\n",
      "Built-up land EF                            0\n",
      "Total Ecological Footprint (Consumption)    0\n",
      "Cropland                                    0\n",
      "Grazing land                                0\n",
      "Forest land                                 0\n",
      "Fishing ground                              0\n",
      "Built-up land BC                            0\n",
      "Total Biocapacity                           0\n",
      "Ecological (Deficit) or Reserve             0\n",
      "Number of Earths required                   0\n",
      "Number of Countries required                0\n",
      "dtype: int64\n"
     ]
    }
   ],
   "source": [
    "remaining_numerical_cols = ['Life Expectancy', 'HDI']\n",
    "\n",
    "df = fill_with_regional_median(df, 'Region', remaining_numerical_cols)\n",
    "\n",
    "missing_values_after_fill = df.isnull().sum()\n",
    "print(\"Missing values after filling with regional median:\")\n",
    "print(missing_values_after_fill)"
   ]
  },
  {
   "cell_type": "code",
   "execution_count": 19,
   "metadata": {},
   "outputs": [
    {
     "name": "stdout",
     "output_type": "stream",
     "text": [
      "     Income Group\n",
      "0               0\n",
      "1               2\n",
      "2               2\n",
      "3               1\n",
      "5               2\n",
      "..            ...\n",
      "177             2\n",
      "178             1\n",
      "179             1\n",
      "180             1\n",
      "181             0\n",
      "\n",
      "[152 rows x 1 columns]\n"
     ]
    }
   ],
   "source": [
    "income_mapping = {'HI': 3, 'LI': 0, 'LM': 1, 'UM': 2}\n",
    "\n",
    "df['Income Group'] = df['Income Group'].map(income_mapping)\n",
    "\n",
    "print(df[['Income Group']])"
   ]
  },
  {
   "cell_type": "markdown",
   "metadata": {},
   "source": [
    "**Research Question 1**"
   ]
  },
  {
   "cell_type": "code",
   "execution_count": 20,
   "metadata": {},
   "outputs": [
    {
     "name": "stdout",
     "output_type": "stream",
     "text": [
      "                                                  Mean        Median  \\\n",
      "Total Ecological Footprint (Consumption)      3.048026      2.300000   \n",
      "Total Biocapacity                             2.962998      1.386204   \n",
      "Per Capita GDP                            21030.151316  14715.500000   \n",
      "HDI                                           0.712138      0.730000   \n",
      "Income Group                                  1.598684      2.000000   \n",
      "\n",
      "                                          Standard Deviation          Range  \n",
      "Total Ecological Footprint (Consumption)            2.326153      12.500000  \n",
      "Total Biocapacity                                   6.622550      74.734325  \n",
      "Per Capita GDP                                  22439.609135  119772.000000  \n",
      "HDI                                                 0.158912       0.570000  \n",
      "Income Group                                        1.105434       3.000000  \n"
     ]
    }
   ],
   "source": [
    "#Summary statistics\n",
    "columns_of_interest = ['Total Ecological Footprint (Consumption)', 'Total Biocapacity', 'Per Capita GDP', 'HDI', 'Income Group']\n",
    "\n",
    "summary_stats = df[columns_of_interest].agg(['mean', 'median', 'std', lambda x: x.max() - x.min()]).transpose()\n",
    "summary_stats.columns = ['Mean', 'Median', 'Standard Deviation', 'Range']\n",
    "\n",
    "print(summary_stats)"
   ]
  },
  {
   "cell_type": "code",
   "execution_count": 21,
   "metadata": {},
   "outputs": [
    {
     "name": "stdout",
     "output_type": "stream",
     "text": [
      "                                          Total Ecological Footprint (Consumption)  \\\n",
      "Total Ecological Footprint (Consumption)                                  1.000000   \n",
      "Total Biocapacity                                                         0.457382   \n",
      "Per Capita GDP                                                            0.868234   \n",
      "HDI                                                                       0.856025   \n",
      "Income Group                                                              0.844002   \n",
      "\n",
      "                                          Total Biocapacity  Per Capita GDP  \\\n",
      "Total Ecological Footprint (Consumption)           0.457382        0.868234   \n",
      "Total Biocapacity                                  1.000000        0.303385   \n",
      "Per Capita GDP                                     0.303385        1.000000   \n",
      "HDI                                                0.304118        0.950867   \n",
      "Income Group                                       0.323840        0.906091   \n",
      "\n",
      "                                               HDI  Income Group  \n",
      "Total Ecological Footprint (Consumption)  0.856025      0.844002  \n",
      "Total Biocapacity                         0.304118      0.323840  \n",
      "Per Capita GDP                            0.950867      0.906091  \n",
      "HDI                                       1.000000      0.897712  \n",
      "Income Group                              0.897712      1.000000  \n"
     ]
    }
   ],
   "source": [
    "# Correlation\n",
    "\n",
    "corr = df[columns_of_interest].corr(method = 'spearman')\n",
    "\n",
    "print(corr)"
   ]
  },
  {
   "cell_type": "code",
   "execution_count": 22,
   "metadata": {},
   "outputs": [
    {
     "name": "stdout",
     "output_type": "stream",
     "text": [
      "                                       OLS Regression Results                                       \n",
      "====================================================================================================\n",
      "Dep. Variable:     Total Ecological Footprint (Consumption)   R-squared:                       0.672\n",
      "Model:                                                  OLS   Adj. R-squared:                  0.667\n",
      "Method:                                       Least Squares   F-statistic:                     152.6\n",
      "Date:                                      Thu, 06 Feb 2025   Prob (F-statistic):           8.77e-37\n",
      "Time:                                              12:11:50   Log-Likelihood:                -258.80\n",
      "No. Observations:                                       152   AIC:                             523.6\n",
      "Df Residuals:                                           149   BIC:                             532.7\n",
      "Df Model:                                                 2                                         \n",
      "Covariance Type:                                  nonrobust                                         \n",
      "==================================================================================\n",
      "                     coef    std err          t      P>|t|      [0.025      0.975]\n",
      "----------------------------------------------------------------------------------\n",
      "const             -1.0772      0.667     -1.615      0.109      -2.395       0.241\n",
      "Per Capita GDP  6.117e-05   7.72e-06      7.924      0.000    4.59e-05    7.64e-05\n",
      "HDI                3.9863      1.090      3.657      0.000       1.832       6.140\n",
      "==============================================================================\n",
      "Omnibus:                       51.225   Durbin-Watson:                   1.991\n",
      "Prob(Omnibus):                  0.000   Jarque-Bera (JB):              182.893\n",
      "Skew:                           1.230   Prob(JB):                     1.93e-40\n",
      "Kurtosis:                       7.778   Cond. No.                     3.59e+05\n",
      "==============================================================================\n",
      "\n",
      "Notes:\n",
      "[1] Standard Errors assume that the covariance matrix of the errors is correctly specified.\n",
      "[2] The condition number is large, 3.59e+05. This might indicate that there are\n",
      "strong multicollinearity or other numerical problems.\n"
     ]
    }
   ],
   "source": [
    "# Regression\n",
    "\n",
    "X = df[['Per Capita GDP', 'HDI']]\n",
    "y = df['Total Ecological Footprint (Consumption)']\n",
    "\n",
    "X = sm.add_constant(X)\n",
    "model = sm.OLS(y, X).fit()\n",
    "\n",
    "print(model.summary())"
   ]
  },
  {
   "cell_type": "code",
   "execution_count": 23,
   "metadata": {},
   "outputs": [
    {
     "data": {
      "image/png": "[encoded data removed]",
      "text/plain": [
       "<Figure size 864x432 with 1 Axes>"
      ]
     },
     "metadata": {
      "needs_background": "light"
     },
     "output_type": "display_data"
    },
    {
     "data": {
      "image/png": "[encoded data removed]",
      "text/plain": [
       "<Figure size 864x432 with 1 Axes>"
      ]
     },
     "metadata": {
      "needs_background": "light"
     },
     "output_type": "display_data"
    }
   ],
   "source": [
    "#Graphics\n",
    "\n",
    "# HDI vs Total Ecological Footprint\n",
    "plt.figure(figsize=(12, 6))\n",
    "sns.scatterplot(data=df, x='HDI', y='Total Ecological Footprint (Consumption)', hue='Income Group', palette='viridis')\n",
    "plt.title('HDI vs Total Ecological Footprint (Consumption)')\n",
    "plt.xlabel('HDI')\n",
    "plt.ylabel('Total Ecological Footprint (Consumption)')\n",
    "plt.legend(title='Income Group', bbox_to_anchor=(1.05, 1), loc='upper left')\n",
    "plt.show()\n",
    "\n",
    "\n",
    "# HDI vs Total Biocapacity\n",
    "plt.figure(figsize=(12, 6))\n",
    "sns.scatterplot(data=df, x='HDI', y='Total Biocapacity', hue='Income Group', palette='viridis')\n",
    "plt.title('HDI vs Total Biocapacity')\n",
    "plt.xlabel('HDI')\n",
    "plt.ylabel('Total Biocapacity')\n",
    "plt.legend(title='Income Group', bbox_to_anchor=(1.05, 1), loc='upper left')\n",
    "plt.show()"
   ]
  },
  {
   "cell_type": "markdown",
   "metadata": {},
   "source": [
    "**Research Question 2**"
   ]
  },
  {
   "cell_type": "code",
   "execution_count": 24,
   "metadata": {},
   "outputs": [
    {
     "name": "stdout",
     "output_type": "stream",
     "text": [
      "Average Ecological Footprints by Region:\n",
      "                           Cropland Footprint  Grazing Footprint  \\\n",
      "Region                                                             \n",
      "Africa                               0.371739           0.236957   \n",
      "Asia-Pacific                         0.434783           0.308696   \n",
      "Central America/Caribbean            0.469231           0.176923   \n",
      "EU-27                                1.052174           0.260870   \n",
      "Middle East/Central Asia             0.573913           0.230435   \n",
      "North America                        1.033333           0.266667   \n",
      "Other Europe                         0.890909           0.209091   \n",
      "South America                        0.510000           0.640000   \n",
      "\n",
      "                           Forest Product Footprint  Fish Footprint  \\\n",
      "Region                                                                \n",
      "Africa                                     0.282609        0.054348   \n",
      "Asia-Pacific                               0.347826        0.147826   \n",
      "Central America/Caribbean                  0.269231        0.530769   \n",
      "EU-27                                      1.039130        0.152174   \n",
      "Middle East/Central Asia                   0.143478        0.126087   \n",
      "North America                              0.733333        0.100000   \n",
      "Other Europe                               0.627273        0.163636   \n",
      "South America                              0.430000        0.090000   \n",
      "\n",
      "                           Built-up land EF  \n",
      "Region                                       \n",
      "Africa                             0.041304  \n",
      "Asia-Pacific                       0.086957  \n",
      "Central America/Caribbean          0.092308  \n",
      "EU-27                              0.139130  \n",
      "Middle East/Central Asia           0.091304  \n",
      "North America                      0.066667  \n",
      "Other Europe                       0.109091  \n",
      "South America                      0.100000  \n",
      "\n",
      "Average Biocapacity by Region:\n",
      "                           Cropland  Grazing land  Forest land  \\\n",
      "Region                                                           \n",
      "Africa                     0.282609      0.471739     0.814318   \n",
      "Asia-Pacific               0.369565      0.526087     0.899620   \n",
      "Central America/Caribbean  0.269231      0.138462     0.432000   \n",
      "EU-27                      1.043478      0.156522     1.738907   \n",
      "Middle East/Central Asia   0.330435      0.239130     0.094300   \n",
      "North America              1.566667      0.233333     3.295256   \n",
      "Other Europe               0.754545      0.190909     1.431093   \n",
      "South America              0.800000      1.370000    10.003418   \n",
      "\n",
      "                           Fishing ground  Built-up land BC  \n",
      "Region                                                       \n",
      "Africa                           0.303834          0.055193  \n",
      "Asia-Pacific                     0.370377          0.085187  \n",
      "Central America/Caribbean        0.294237          0.090946  \n",
      "EU-27                            0.665045          0.134505  \n",
      "Middle East/Central Asia         0.176659          0.097133  \n",
      "North America                    1.198869          0.058228  \n",
      "Other Europe                     0.462067          0.107859  \n",
      "South America                    1.130079          0.101023  \n"
     ]
    }
   ],
   "source": [
    "# Regional Differences in resource use\n",
    "\n",
    "# Avg EF by region by land type\n",
    "avg_eco_footprints = df.groupby('Region').mean()[[\n",
    "    'Cropland Footprint', 'Grazing Footprint', \n",
    "    'Forest Product Footprint', \n",
    "    'Fish Footprint', 'Built-up land EF'\n",
    "]]\n",
    "\n",
    "# Avg BC by region by land type\n",
    "avg_biocapacity = df.groupby('Region').mean()[[\n",
    "    'Cropland', 'Grazing land', \n",
    "    'Forest land', 'Fishing ground', \n",
    "    'Built-up land BC'\n",
    "]]\n",
    "\n",
    "print(\"Average Ecological Footprints by Region:\")\n",
    "print(avg_eco_footprints)\n",
    "\n",
    "print(\"\\nAverage Biocapacity by Region:\")\n",
    "print(avg_biocapacity)"
   ]
  },
  {
   "cell_type": "code",
   "execution_count": 25,
   "metadata": {},
   "outputs": [],
   "source": [
    "# Data exported to Tableau for further manipulation/visualization\n",
    "avg_eco_footprints.to_csv('average_ecological_footprints.csv', index=True)\n",
    "avg_biocapacity.to_csv('average_biocapacity.csv', index=True)"
   ]
  },
  {
   "cell_type": "code",
   "execution_count": 26,
   "metadata": {},
   "outputs": [],
   "source": [
    "# Normalizing by population\n",
    "df['Population (millions)'] = pd.to_numeric(df['Population (millions)'], errors='coerce')\n",
    "\n",
    "df['Total Cropland Footprint'] = df['Cropland Footprint'] * df['Population (millions)']\n",
    "df['Total Grazing Footprint'] = df['Grazing Footprint'] * df['Population (millions)']\n",
    "df['Total Forest Product Footprint'] = df['Forest Product Footprint'] * df['Population (millions)']\n",
    "df['Total Fish Footprint'] = df['Fish Footprint'] * df['Population (millions)']\n",
    "df['Total Built-up Land Footprint'] = df['Built-up land EF'] * df['Population (millions)']\n",
    "\n",
    "df['Total Cropland Biocapacity'] = df['Cropland'] * df['Population (millions)']\n",
    "df['Total Grazing Biocapacity'] = df['Grazing land'] * df['Population (millions)']\n",
    "df['Total Forest Biocapacity'] = df['Forest land'] * df['Population (millions)']\n",
    "df['Total Fishing Biocapacity'] = df['Fishing ground'] * df['Population (millions)']\n",
    "df['Total Built-up Land Biocapacity'] = df['Built-up land BC'] * df['Population (millions)']"
   ]
  },
  {
   "cell_type": "code",
   "execution_count": 27,
   "metadata": {},
   "outputs": [
    {
     "name": "stdout",
     "output_type": "stream",
     "text": [
      "                      Region  Difference Cropland  Difference Grazing  \\\n",
      "0                     Africa               -38.11              161.47   \n",
      "1               Asia-Pacific               -57.55              107.60   \n",
      "2  Central America/Caribbean               -13.86               -0.17   \n",
      "3                      EU-27               -58.99              -42.43   \n",
      "4   Middle East/Central Asia               -67.71               14.57   \n",
      "5              North America               161.36              -33.48   \n",
      "6               Other Europe                75.96               21.12   \n",
      "7              South America               103.94              123.55   \n",
      "\n",
      "   Difference Forest  Difference Fishing  Difference Built-up Land  \n",
      "0          75.878887           45.962941                 20.725129  \n",
      "1          77.735594          110.243312                -11.022036  \n",
      "2           0.745432            2.628775                  0.235764  \n",
      "3         162.214338           16.147960                 -6.581579  \n",
      "4           8.252276           17.235752                  5.769808  \n",
      "5         494.918204          192.876632                -17.046390  \n",
      "6         521.784350          167.438826                  3.226813  \n",
      "7        1691.098480           96.043252                  6.562907  \n"
     ]
    }
   ],
   "source": [
    "# Calculate differences for each resource type\n",
    "df['Difference Cropland'] = df['Total Cropland Biocapacity'] - df['Total Cropland Footprint']\n",
    "df['Difference Grazing'] = df['Total Grazing Biocapacity'] - df['Total Grazing Footprint']\n",
    "df['Difference Forest'] = df['Total Forest Biocapacity'] - df['Total Forest Product Footprint']\n",
    "df['Difference Fishing'] = df['Total Fishing Biocapacity'] - df['Total Fish Footprint']\n",
    "df['Difference Built-up Land'] = df['Total Built-up Land Biocapacity'] - df['Total Built-up Land Footprint']\n",
    "\n",
    "# Group by region and aggregate differences\n",
    "regional_differences = df.groupby('Region').agg({\n",
    "    'Difference Cropland': 'sum',\n",
    "    'Difference Grazing': 'sum',\n",
    "    'Difference Forest': 'sum',\n",
    "    'Difference Fishing': 'sum',\n",
    "    'Difference Built-up Land': 'sum',\n",
    "}).reset_index()\n",
    "\n",
    "# Print aggregated regional differences to compare\n",
    "print(regional_differences)\n"
   ]
  },
  {
   "cell_type": "code",
   "execution_count": 28,
   "metadata": {},
   "outputs": [],
   "source": [
    "# Exported to Tableau\n",
    "regional_differences.to_csv('regional_differences.csv', index=False)"
   ]
  },
  {
   "cell_type": "markdown",
   "metadata": {},
   "source": [
    "**Research Question 3**"
   ]
  },
  {
   "cell_type": "code",
   "execution_count": 29,
   "metadata": {},
   "outputs": [
    {
     "data": {
      "image/png": "[encoded data removed]",
      "text/plain": [
       "<Figure size 756x360 with 3 Axes>"
      ]
     },
     "metadata": {
      "needs_background": "light"
     },
     "output_type": "display_data"
    }
   ],
   "source": [
    "# Scatter plots to visualize predictors\n",
    "sns.pairplot(df, x_vars=['Per Capita GDP', 'HDI', 'Income Group'], y_vars='Total Ecological Footprint (Consumption)', height=5, aspect=0.7)\n",
    "plt.show()"
   ]
  },
  {
   "cell_type": "code",
   "execution_count": 30,
   "metadata": {},
   "outputs": [],
   "source": [
    "# Build model\n",
    "X = df[['Per Capita GDP', 'HDI', 'Income Group']]\n",
    "y_ef = df['Total Ecological Footprint (Consumption)']\n",
    "\n",
    "X = pd.get_dummies(X, drop_first=True)\n",
    "X = sm.add_constant(X)"
   ]
  },
  {
   "cell_type": "code",
   "execution_count": 31,
   "metadata": {},
   "outputs": [],
   "source": [
    "# Split data\n",
    "X_train_ef, X_test_ef, y_train_ef, y_test_ef = train_test_split(X, y_ef, test_size=0.2, random_state=12)"
   ]
  },
  {
   "cell_type": "code",
   "execution_count": 32,
   "metadata": {},
   "outputs": [
    {
     "name": "stdout",
     "output_type": "stream",
     "text": [
      "                                       OLS Regression Results                                       \n",
      "====================================================================================================\n",
      "Dep. Variable:     Total Ecological Footprint (Consumption)   R-squared:                       0.645\n",
      "Model:                                                  OLS   Adj. R-squared:                  0.636\n",
      "Method:                                       Least Squares   F-statistic:                     70.77\n",
      "Date:                                      Thu, 06 Feb 2025   Prob (F-statistic):           3.59e-26\n",
      "Time:                                              12:11:51   Log-Likelihood:                -207.34\n",
      "No. Observations:                                       121   AIC:                             422.7\n",
      "Df Residuals:                                           117   BIC:                             433.9\n",
      "Df Model:                                                 3                                         \n",
      "Covariance Type:                                  nonrobust                                         \n",
      "==================================================================================\n",
      "                     coef    std err          t      P>|t|      [0.025      0.975]\n",
      "----------------------------------------------------------------------------------\n",
      "const             -0.1446      0.938     -0.154      0.878      -2.002       1.713\n",
      "Per Capita GDP  4.762e-05   9.68e-06      4.922      0.000    2.85e-05    6.68e-05\n",
      "HDI                1.7089      1.768      0.967      0.336      -1.792       5.210\n",
      "Income Group       0.5724      0.244      2.343      0.021       0.089       1.056\n",
      "==============================================================================\n",
      "Omnibus:                       57.810   Durbin-Watson:                   1.856\n",
      "Prob(Omnibus):                  0.000   Jarque-Bera (JB):              201.584\n",
      "Skew:                           1.731   Prob(JB):                     1.68e-44\n",
      "Kurtosis:                       8.292   Cond. No.                     4.73e+05\n",
      "==============================================================================\n",
      "\n",
      "Notes:\n",
      "[1] Standard Errors assume that the covariance matrix of the errors is correctly specified.\n",
      "[2] The condition number is large, 4.73e+05. This might indicate that there are\n",
      "strong multicollinearity or other numerical problems.\n"
     ]
    }
   ],
   "source": [
    "# Run model\n",
    "model_ef = sm.OLS(y_train_ef, X_train_ef).fit()\n",
    "print(model_ef.summary())"
   ]
  },
  {
   "cell_type": "code",
   "execution_count": 33,
   "metadata": {},
   "outputs": [
    {
     "name": "stdout",
     "output_type": "stream",
     "text": [
      "EF Model R^2: 0.7808239800802158\n",
      "EF Model RMSE: 1.1646677492542148\n"
     ]
    }
   ],
   "source": [
    "# Predict and evaluate\n",
    "y_pred_ef = model_ef.predict(X_test_ef)\n",
    "\n",
    "print(f'EF Model R^2: {r2_score(y_test_ef, y_pred_ef)}')\n",
    "print(f'EF Model RMSE: {np.sqrt(mean_squared_error(y_test_ef, y_pred_ef))}')"
   ]
  },
  {
   "cell_type": "code",
   "execution_count": 34,
   "metadata": {},
   "outputs": [
    {
     "data": {
      "image/png": "[encoded data removed]",
      "text/plain": [
       "<Figure size 720x360 with 1 Axes>"
      ]
     },
     "metadata": {
      "needs_background": "light"
     },
     "output_type": "display_data"
    },
    {
     "data": {
      "image/png": "[encoded data removed]",
      "text/plain": [
       "<Figure size 432x288 with 1 Axes>"
      ]
     },
     "metadata": {
      "needs_background": "light"
     },
     "output_type": "display_data"
    }
   ],
   "source": [
    "# Visualize \n",
    "\n",
    "# Actual vs Predicted values for EF\n",
    "plt.figure(figsize=(10, 5))\n",
    "plt.plot(y_test_ef.values, label='Actual EF')\n",
    "plt.plot(y_pred_ef.values, label='Predicted EF')\n",
    "plt.legend()\n",
    "plt.title('Actual vs Predicted Ecological Footprint')\n",
    "plt.show()\n",
    "\n",
    "# Residual plots for EF\n",
    "residuals_ef = y_test_ef - y_pred_ef\n",
    "sns.residplot(x=y_pred_ef, y=residuals_ef, lowess=True, color='g')\n",
    "plt.title('Residuals of Ecological Footprint Model')\n",
    "plt.show()\n"
   ]
  },
  {
   "cell_type": "markdown",
   "metadata": {},
   "source": []
  }
 ],
 "metadata": {
  "kernelspec": {
   "display_name": "Python 3",
   "language": "python",
   "name": "python3"
  },
  "language_info": {
   "codemirror_mode": {
    "name": "ipython",
    "version": 3
   },
   "file_extension": ".py",
   "mimetype": "text/x-python",
   "name": "python",
   "nbconvert_exporter": "python",
   "pygments_lexer": "ipython3",
   "version": "3.6.8"
  }
 },
 "nbformat": 4,
 "nbformat_minor": 4
}
